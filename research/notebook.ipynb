{
 "cells": [
  {
   "cell_type": "code",
   "execution_count": 1,
   "id": "0a3b5b6c",
   "metadata": {},
   "outputs": [],
   "source": [
    "import pandas as pd\n",
    "import numpy as np\n"
   ]
  },
  {
   "cell_type": "code",
   "execution_count": 9,
   "id": "2e60d821",
   "metadata": {},
   "outputs": [],
   "source": [
    "path = \"C:/Users/DIXITA/Desktop/astropy/archive/data.csv\""
   ]
  },
  {
   "cell_type": "code",
   "execution_count": 10,
   "id": "543c85b8",
   "metadata": {},
   "outputs": [],
   "source": [
    "df = pd.read_csv(path)"
   ]
  },
  {
   "cell_type": "code",
   "execution_count": 13,
   "id": "4a28f2ea",
   "metadata": {},
   "outputs": [
    {
     "data": {
      "text/plain": [
       "Star color\n",
       "Red                   112\n",
       "Blue                   55\n",
       "Blue-white             26\n",
       "Blue White             10\n",
       "yellow-white            8\n",
       "White                   7\n",
       "Yellowish White         3\n",
       "Blue white              3\n",
       "white                   3\n",
       "Orange                  2\n",
       "Whitish                 2\n",
       "yellowish               2\n",
       "Pale yellow orange      1\n",
       "White-Yellow            1\n",
       "Blue                    1\n",
       "Yellowish               1\n",
       "Orange-Red              1\n",
       "Blue white              1\n",
       "Blue-White              1\n",
       "Name: count, dtype: int64"
      ]
     },
     "execution_count": 13,
     "metadata": {},
     "output_type": "execute_result"
    }
   ],
   "source": [
    "df[\"Star color\"].value_counts()"
   ]
  },
  {
   "cell_type": "code",
   "execution_count": null,
   "id": "3e5adfe0",
   "metadata": {},
   "outputs": [],
   "source": []
  }
 ],
 "metadata": {
  "kernelspec": {
   "display_name": "env",
   "language": "python",
   "name": "python3"
  },
  "language_info": {
   "codemirror_mode": {
    "name": "ipython",
    "version": 3
   },
   "file_extension": ".py",
   "mimetype": "text/x-python",
   "name": "python",
   "nbconvert_exporter": "python",
   "pygments_lexer": "ipython3",
   "version": "3.13.7"
  }
 },
 "nbformat": 4,
 "nbformat_minor": 5
}
